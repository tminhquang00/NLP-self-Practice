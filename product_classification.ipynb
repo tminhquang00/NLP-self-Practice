{
 "cells": [
  {
   "cell_type": "markdown",
   "metadata": {},
   "source": [
    "# NLP Challenge 1: Product classification"
   ]
  },
  {
   "cell_type": "code",
   "execution_count": 63,
   "metadata": {},
   "outputs": [],
   "source": [
    "import json\n",
    "import re\n",
    "import pandas as pd\n",
    "import numpy as np\n",
    "\n",
    "import matplotlib.pyplot as plt\n",
    "import seaborn as sns\n",
    "\n",
    "from itertools import islice\n",
    "\n",
    "import pickle\n",
    "from sklearn import feature_extraction, model_selection, naive_bayes, pipeline, manifold, preprocessing, metrics, svm\n",
    "from sklearn.model_selection import GridSearchCV, KFold\n",
    "import gensim\n",
    "import gensim.downloader as gensim_api\n",
    "\n",
    "import nltk\n",
    "nltk.data.path.append(r\"C:\\Users\\TQU3HC\\Desktop\\nltk_data\")\n",
    "# Download set of word dicts\n",
    "# nltk.download('wordnet')\n",
    "# nltk.download('stopwords')\n",
    "# nltk.download('punkt')\n",
    "# nltk.download('omw-1.4')"
   ]
  },
  {
   "cell_type": "markdown",
   "metadata": {},
   "source": [
    "## Read Data"
   ]
  },
  {
   "cell_type": "code",
   "execution_count": 64,
   "metadata": {},
   "outputs": [],
   "source": [
    "data = []\n",
    "with open('Dataset1/data.json',encoding=\"utf8\") as file:\n",
    "    for line in file:\n",
    "        #print(line.rstrip())\n",
    "        data.append(json.loads(line.rstrip()))"
   ]
  },
  {
   "cell_type": "code",
   "execution_count": 65,
   "metadata": {},
   "outputs": [
    {
     "data": {
      "text/plain": [
       "14999"
      ]
     },
     "execution_count": 65,
     "metadata": {},
     "output_type": "execute_result"
    }
   ],
   "source": [
    "len(data)"
   ]
  },
  {
   "cell_type": "code",
   "execution_count": 96,
   "metadata": {},
   "outputs": [
    {
     "data": {
      "text/plain": [
       "'Title: Khăn ướt cho bé sơ sinh không mùi Bibo 100 tờ không mùi mềm mại an toàn Kukushop_Kids KU01\\n\\nDescription: Khăn ướt cho bé mềm mịn an toàn cao cấp Đồ dùng cho bé - đồng hành cùng sự phát triển của con yêu Làm mẹ là thiên chức quý giá nhất của người phụ nữ. 9 tháng 10 ngày con phát triển trong bụng mẹ, lắng nghe từng cử động của con khiến cho tình mẫu tử thêm phần khăng khít. Chính vì thế, bố mẹ nào cũng muốn dành những điều tốt đẹp nhất ngay từ giây phút con chào đời. Để dễ dàng hơn trong việc chăm sóc con trẻ, bố mẹ cần sắm rất nhiều thứ đồ dùng cho bé. Một trong số đồ sơ sinh phải kể đến là các sản phẩm khăn giấy ướt cho bé sử dụng khi ăn uống, lau chùi vệ sinh sạch sẽ cho trẻ khi ở nhà, đi chơi du lịch tiện lợi Khăn ướt cho bé Hãng khăn: BIBO Khăn có: 100 tờ Khăn ướt Moony mềm mại không gây kích ứng da trẻ nhỏ Không dùng hóa chất, không mùi an toàn tuyệt đối cho da Bé Sợi dai, không xù không sổ, dễ dàng làm sạch Dùng được cho bé sơ sinh Túi đựng nhỏ gọn, tiện dụng Dùng để vệ sinh da, lau mặt, làm mát và giữ ẩm cho da em bé Làn da của trẻ sơ sinh rất nhạy cảm, dễ kích ứng. Đặc biệt khi tiếp xúc trực tiếp với da, da bé có thể bị nổi mẩn, đỏ rát rất khó chịu. Vì vậy khi chọn các loại khăn ướt lau chùi cho bé, mẹ cần chọn sản phẩm có chất liệu khăn mềm mại, không gây kích ứng da trẻ nhỏ Khăn ướt cho trẻ sơ sinh có thể được làm nguồn gốc thiên nhiên an toàn mềm mại không làm tổn thương làn da của bé trên dây truyền sản xuất hiện đại Khăn giấy ướt em bé dùng để lau chùi, vệ sinh cho bé tiện lợi giữ ẩm cho da…. Mẹ cũng có thể sử dụng lau chùi vệ sinh sạch sẽ Khăn ướt cho bé có thể dùng làm khăn mặt, lau mồ hôi, lau chùi chân tay cho bé. Chất khăn có đặc tính mềm mại, thấm hút nước tốt, an toàn cho làn da của bé Khi mua đồ trẻ sơ sinh lần đầu về các mẹ nên sử dụng và bảo quản tốt thì khăn cho bé sẽ mềm hơn. Mẹ có thể sử dụng khăn giấy ướt cho nhiều mục đích khác nhau như rửa mặt lau mũi, vệ sinh người khi tắm khi cho bé ăn, lau chùi khi bé ăn bị nôn chớ… Chúc ba mẹ chọn mua được loại khăn ướt cho trẻ sơ sinh phù hợp cho bé ưng ý nhất. Bé luôn được an toàn và phát triển khỏe mạnh! Là địa chỉ được nhiều mẹ bỉm sữa tin tưởng và lựa chọn Kukushop_Kids cam kết luôn bán những sản phẩm chất lượng và tốt nhất dành cho bé. Ấn follow shop để lấy mã giảm giá và nhận được chương trình khuyến mãi của shop sớm nhất các mẹ nhé ! #dososinh #dososinhchobe #dotresosinh #dochotresosinh #khanuot #khangiayuot #khanuotchobe #khangiayuotchobe #khanuotembe Khăn ướt cho bé mềm mịn an toàn cao cấp Đồ dùng cho bé - đồng hành cùng sự phát triển của con yêu Làm mẹ là thiên chức quý giá nhất của người phụ nữ. 9 tháng 10 ngày con phát triển trong bụng mẹ, lắng nghe từng cử động của con khiến cho tình mẫu tử thêm phần khăng khít. Chính vì thế, bố mẹ nào cũng muốn dành những điều tốt đẹp nhất ngay từ giây phút con chào đời. Để dễ dàng hơn trong việc chăm sóc con trẻ, bố mẹ cần sắm rất nhiều thứ đồ dùng cho bé. Một trong số đồ sơ sinh phải kể đến là các sản phẩm khăn giấy ướt cho bé sử dụng khi ăn uống, lau chùi vệ sinh sạch sẽ cho trẻ khi ở nhà, đi chơi du lịch tiện lợi Khăn ướt cho bé Hãng khăn: BIBO Khăn có: 100 tờ Khăn ướt Moony mềm mại không gây kích ứng da trẻ nhỏ Không dùng hóa chất, không mùi an toàn tuyệt đối cho da Bé Sợi dai, không xù không sổ, dễ dàng làm sạch Dùng được cho bé sơ sinh Túi đựng nhỏ gọn, tiện dụng Dùng để vệ sinh da, lau mặt, làm mát và giữ ẩm cho da em bé Làn da của trẻ sơ sinh rất nhạy cảm, dễ kích ứng. Đặc biệt khi tiếp xúc trực tiếp với da, da bé có thể bị nổi mẩn, đỏ rát rất khó chịu. Vì vậy khi chọn các loại khăn ướt lau chùi cho bé, mẹ cần chọn sản phẩm có chất liệu khăn mềm mại, không gây kích ứng da trẻ nhỏ Khăn ướt cho trẻ sơ sinh có thể được làm nguồn gốc thiên nhiên an toàn mềm mại không làm tổn thương làn da của bé trên dây truyền sản xuất hiện đại Khăn giấy ướt em bé dùng để lau chùi, vệ sinh cho bé tiện lợi giữ ẩm cho da…. Mẹ cũng có thể sử dụng lau chùi vệ sinh sạch sẽ Khăn ướt cho bé có thể dùng làm khăn mặt, lau mồ hôi, lau chùi chân tay cho bé. Chất khăn có đặc tính mềm mại, thấm hút nước tốt, an toàn cho làn da của bé Khi mua đồ trẻ sơ sinh lần đầu về các mẹ nên sử dụng và bảo quản tốt thì khăn cho bé sẽ mềm hơn. Mẹ có thể sử dụng khăn giấy ướt cho nhiều mục đích khác nhau như rửa mặt lau mũi, vệ sinh người khi tắm khi cho bé ăn, lau chùi khi bé ăn bị nôn chớ… Chúc ba mẹ chọn mua được loại khăn ướt cho trẻ sơ sinh phù hợp cho bé ưng ý nhất. Bé luôn được an toàn và phát triển khỏe mạnh! Là địa chỉ được nhiều mẹ bỉm sữa tin tưởng và lựa chọn Kukushop_Kids cam kết luôn bán những sản phẩm chất lượng và tốt nhất dành cho bé. Ấn follow shop để lấy mã giảm giá và nhận được chương trình khuyến mãi của shop sớm nhất các mẹ nhé ! #dososinh #dososinhchobe #dotresosinh #dochotresosinh #khanuot #khangiayuot #khanuotchobe #khangiayuotchobe #khanuotembe'"
      ]
     },
     "execution_count": 96,
     "metadata": {},
     "output_type": "execute_result"
    }
   ],
   "source": [
    "data[20]['data']"
   ]
  },
  {
   "cell_type": "code",
   "execution_count": 67,
   "metadata": {},
   "outputs": [
    {
     "data": {
      "text/html": [
       "<div>\n",
       "<style scoped>\n",
       "    .dataframe tbody tr th:only-of-type {\n",
       "        vertical-align: middle;\n",
       "    }\n",
       "\n",
       "    .dataframe tbody tr th {\n",
       "        vertical-align: top;\n",
       "    }\n",
       "\n",
       "    .dataframe thead th {\n",
       "        text-align: right;\n",
       "    }\n",
       "</style>\n",
       "<table border=\"1\" class=\"dataframe\">\n",
       "  <thead>\n",
       "    <tr style=\"text-align: right;\">\n",
       "      <th></th>\n",
       "      <th>index</th>\n",
       "      <th>id</th>\n",
       "      <th>data</th>\n",
       "      <th>label</th>\n",
       "      <th>link</th>\n",
       "    </tr>\n",
       "  </thead>\n",
       "  <tbody>\n",
       "    <tr>\n",
       "      <th>0</th>\n",
       "      <td>0</td>\n",
       "      <td>lazada!2b243705-5f37-5c7f-8c9d-eae1e9447319</td>\n",
       "      <td>Title: Sữa Bột Vinamilk Nguyên Kem 900g (hộp s...</td>\n",
       "      <td>Milk</td>\n",
       "      <td>https://www.lazada.vn/products/i-i1210092788-s...</td>\n",
       "    </tr>\n",
       "    <tr>\n",
       "      <th>1</th>\n",
       "      <td>1</td>\n",
       "      <td>lazada!5651ce36-38f9-5694-8e83-57c16900b088</td>\n",
       "      <td>Title: Gold Hepolin Sản phẩm bổ gan chính hãng...</td>\n",
       "      <td>Spam</td>\n",
       "      <td>https://www.lazada.vn/products/i-i1227814631-s...</td>\n",
       "    </tr>\n",
       "    <tr>\n",
       "      <th>2</th>\n",
       "      <td>2</td>\n",
       "      <td>shopee!24e50dd4-cd64-5c54-8623-480f9ba7a255</td>\n",
       "      <td>Title: [Mã FMCGMALL giảm 8% đơn từ 250K] Sữa A...</td>\n",
       "      <td>Milk</td>\n",
       "      <td>https://shopee.vn/i-i.54435575.3082645195</td>\n",
       "    </tr>\n",
       "    <tr>\n",
       "      <th>3</th>\n",
       "      <td>3</td>\n",
       "      <td>shopee!aca2ab28-aec1-50a8-b83a-322d5f6c4e01</td>\n",
       "      <td>Title: Sữa Semper Nga số 1\\n\\nDescription: #Sữ...</td>\n",
       "      <td>Milk</td>\n",
       "      <td>https://shopee.vn/i-i.32937244.1317606869</td>\n",
       "    </tr>\n",
       "    <tr>\n",
       "      <th>4</th>\n",
       "      <td>4</td>\n",
       "      <td>lazada!97998517-ba42-50ef-b575-76a9d22a04a5</td>\n",
       "      <td>Title: [HCM]Tẩy Giun Sán BIO-RANTEL Cho Chó Mè...</td>\n",
       "      <td>Spam</td>\n",
       "      <td>https://www.lazada.vn/products/i-i318836042-s5...</td>\n",
       "    </tr>\n",
       "    <tr>\n",
       "      <th>...</th>\n",
       "      <td>...</td>\n",
       "      <td>...</td>\n",
       "      <td>...</td>\n",
       "      <td>...</td>\n",
       "      <td>...</td>\n",
       "    </tr>\n",
       "    <tr>\n",
       "      <th>14994</th>\n",
       "      <td>14994</td>\n",
       "      <td>shopee!bfdbfa2a-3ae8-5017-960d-ca219498d8ee</td>\n",
       "      <td>Title: [Date mới nhất] Sữa Aptamil Bạc Profutu...</td>\n",
       "      <td>Milk</td>\n",
       "      <td>https://shopee.vn/i-i.206371982.13830880179</td>\n",
       "    </tr>\n",
       "    <tr>\n",
       "      <th>14995</th>\n",
       "      <td>14995</td>\n",
       "      <td>lazada!99829873-751c-5238-98a6-7ef4f2b681db</td>\n",
       "      <td>Title: [HCM]Đông Trùng Hạ Thảo KIM CƯƠNG VÀNG ...</td>\n",
       "      <td>Spam</td>\n",
       "      <td>https://www.lazada.vn/products/i-i620480081-s1...</td>\n",
       "    </tr>\n",
       "    <tr>\n",
       "      <th>14996</th>\n",
       "      <td>14996</td>\n",
       "      <td>lazada!ba23c645-fc00-532d-9a94-495e1ff484b2</td>\n",
       "      <td>Title: MEYPPA SHOP TX3mini Bộ giải mã video 1G...</td>\n",
       "      <td>Spam</td>\n",
       "      <td>https://www.lazada.vn/products/i-i1589124406-s...</td>\n",
       "    </tr>\n",
       "    <tr>\n",
       "      <th>14997</th>\n",
       "      <td>14997</td>\n",
       "      <td>shopee!e5f9b762-ac9f-59d1-9183-5ffaea1718ae</td>\n",
       "      <td>Title: Sữa bột Optimum gold 2 800g\\n\\nDescript...</td>\n",
       "      <td>Milk</td>\n",
       "      <td>https://shopee.vn/i-i.27531940.7103072041</td>\n",
       "    </tr>\n",
       "    <tr>\n",
       "      <th>14998</th>\n",
       "      <td>14998</td>\n",
       "      <td>lazada!1501fed8-e6ba-5629-a2e9-cee337b46ff4</td>\n",
       "      <td>Title: Fashion Mens Casual Basic O-Neck Short ...</td>\n",
       "      <td>Spam</td>\n",
       "      <td>https://www.lazada.vn/products/i-i1571791659-s...</td>\n",
       "    </tr>\n",
       "  </tbody>\n",
       "</table>\n",
       "<p>14999 rows × 5 columns</p>\n",
       "</div>"
      ],
      "text/plain": [
       "       index                                           id  \\\n",
       "0          0  lazada!2b243705-5f37-5c7f-8c9d-eae1e9447319   \n",
       "1          1  lazada!5651ce36-38f9-5694-8e83-57c16900b088   \n",
       "2          2  shopee!24e50dd4-cd64-5c54-8623-480f9ba7a255   \n",
       "3          3  shopee!aca2ab28-aec1-50a8-b83a-322d5f6c4e01   \n",
       "4          4  lazada!97998517-ba42-50ef-b575-76a9d22a04a5   \n",
       "...      ...                                          ...   \n",
       "14994  14994  shopee!bfdbfa2a-3ae8-5017-960d-ca219498d8ee   \n",
       "14995  14995  lazada!99829873-751c-5238-98a6-7ef4f2b681db   \n",
       "14996  14996  lazada!ba23c645-fc00-532d-9a94-495e1ff484b2   \n",
       "14997  14997  shopee!e5f9b762-ac9f-59d1-9183-5ffaea1718ae   \n",
       "14998  14998  lazada!1501fed8-e6ba-5629-a2e9-cee337b46ff4   \n",
       "\n",
       "                                                    data label  \\\n",
       "0      Title: Sữa Bột Vinamilk Nguyên Kem 900g (hộp s...  Milk   \n",
       "1      Title: Gold Hepolin Sản phẩm bổ gan chính hãng...  Spam   \n",
       "2      Title: [Mã FMCGMALL giảm 8% đơn từ 250K] Sữa A...  Milk   \n",
       "3      Title: Sữa Semper Nga số 1\\n\\nDescription: #Sữ...  Milk   \n",
       "4      Title: [HCM]Tẩy Giun Sán BIO-RANTEL Cho Chó Mè...  Spam   \n",
       "...                                                  ...   ...   \n",
       "14994  Title: [Date mới nhất] Sữa Aptamil Bạc Profutu...  Milk   \n",
       "14995  Title: [HCM]Đông Trùng Hạ Thảo KIM CƯƠNG VÀNG ...  Spam   \n",
       "14996  Title: MEYPPA SHOP TX3mini Bộ giải mã video 1G...  Spam   \n",
       "14997  Title: Sữa bột Optimum gold 2 800g\\n\\nDescript...  Milk   \n",
       "14998  Title: Fashion Mens Casual Basic O-Neck Short ...  Spam   \n",
       "\n",
       "                                                    link  \n",
       "0      https://www.lazada.vn/products/i-i1210092788-s...  \n",
       "1      https://www.lazada.vn/products/i-i1227814631-s...  \n",
       "2              https://shopee.vn/i-i.54435575.3082645195  \n",
       "3              https://shopee.vn/i-i.32937244.1317606869  \n",
       "4      https://www.lazada.vn/products/i-i318836042-s5...  \n",
       "...                                                  ...  \n",
       "14994        https://shopee.vn/i-i.206371982.13830880179  \n",
       "14995  https://www.lazada.vn/products/i-i620480081-s1...  \n",
       "14996  https://www.lazada.vn/products/i-i1589124406-s...  \n",
       "14997          https://shopee.vn/i-i.27531940.7103072041  \n",
       "14998  https://www.lazada.vn/products/i-i1571791659-s...  \n",
       "\n",
       "[14999 rows x 5 columns]"
      ]
     },
     "execution_count": 67,
     "metadata": {},
     "output_type": "execute_result"
    }
   ],
   "source": [
    "train = pd.DataFrame.from_dict(data, orient='columns')\n",
    "train.reset_index(level=0, inplace=True)\n",
    "train"
   ]
  },
  {
   "cell_type": "code",
   "execution_count": 68,
   "metadata": {},
   "outputs": [
    {
     "data": {
      "text/plain": [
       "array(['Milk', 'Spam'], dtype=object)"
      ]
     },
     "execution_count": 68,
     "metadata": {},
     "output_type": "execute_result"
    }
   ],
   "source": [
    "train.label.unique()"
   ]
  },
  {
   "cell_type": "code",
   "execution_count": 75,
   "metadata": {},
   "outputs": [],
   "source": [
    "product_id = train['id'].tolist()\n",
    "titles = train['data'].tolist()\n",
    "labels = train['label'].tolist()"
   ]
  },
  {
   "cell_type": "code",
   "execution_count": 76,
   "metadata": {},
   "outputs": [],
   "source": [
    "# Convert a list of label to a list of label indices\n",
    "label_dict = dict(\n",
    "    zip(\n",
    "        sorted(set(labels), key=labels.index), \n",
    "        range(len(labels))\n",
    "    )\n",
    ")\n",
    "label_set = sorted(set(labels), key=labels.index)\n",
    "\n",
    "# Convert label from string to numeric indices\n",
    "label_indices=[label_dict[label] for label in labels]"
   ]
  },
  {
   "cell_type": "code",
   "execution_count": 77,
   "metadata": {},
   "outputs": [
    {
     "data": {
      "text/plain": [
       "{'Milk': 0, 'Spam': 1}"
      ]
     },
     "execution_count": 77,
     "metadata": {},
     "output_type": "execute_result"
    }
   ],
   "source": [
    "label_dict"
   ]
  },
  {
   "cell_type": "code",
   "execution_count": 78,
   "metadata": {},
   "outputs": [
    {
     "data": {
      "image/png": "[encoded data removed]",
      "text/plain": [
       "<Figure size 432x288 with 1 Axes>"
      ]
     },
     "metadata": {
      "needs_background": "light"
     },
     "output_type": "display_data"
    }
   ],
   "source": [
    "label_series = pd.Series(label_indices)\n",
    "\n",
    "label_series.hist(bins=2)\n",
    "plt.xticks(range(2))\n",
    "\n",
    "plt.ylabel('Records')\n",
    "plt.xlabel('Topic')\n",
    "plt.title('Distribution of 2 class spam and milk')\n",
    "plt.show()"
   ]
  },
  {
   "cell_type": "markdown",
   "metadata": {},
   "source": [
    "## Data Preprocessing"
   ]
  },
  {
   "cell_type": "code",
   "execution_count": 106,
   "metadata": {},
   "outputs": [],
   "source": [
    "import re, string\n",
    "from pyvi import ViTokenizer, ViPosTagger\n",
    "import emoji\n",
    "\n",
    "def give_emoji_free_text(text):\n",
    "    allchars = [str for str in text.decode('utf-8')]\n",
    "    emoji_list = [c for c in allchars if c in emoji.UNICODE_EMOJI]\n",
    "    clean_text = ' '.join([str for str in text.decode('utf-8').split() if not any(i in str for i in emoji_list)])\n",
    "    return clean_text\n",
    "\n",
    "def remove_icon(text):\n",
    "    text = text.lower()\n",
    "    s = ''\n",
    "    pattern = r\"[a-zA-ZaăâbcdđeêghiklmnoôơpqrstuưvxyàằầbcdđèềghìklmnòồờpqrstùừvxỳáắấbcdđéếghíklmnóốớpqrstúứvxýảẳẩbcdđẻểghỉklmnỏổởpqrstủửvxỷạặậbcdđẹệghịklmnọộợpqrstụựvxỵãẵẫbcdđẽễghĩklmnõỗỡpqrstũữvxỹAĂÂBCDĐEÊGHIKLMNOÔƠPQRSTUƯVXYÀẰẦBCDĐÈỀGHÌKLMNÒỒỜPQRSTÙỪVXỲÁẮẤBCDĐÉẾGHÍKLMNÓỐỚPQRSTÚỨVXÝẠẶẬBCDĐẸỆGHỊKLMNỌỘỢPQRSTỤỰVXỴẢẲẨBCDĐẺỂGHỈKLMNỎỔỞPQRSTỦỬVXỶÃẴẪBCDĐẼỄGHĨKLMNÕỖỠPQRSTŨỮVXỸ,._]\"\n",
    "    \n",
    "    for char in text:\n",
    "        if char !=' ':\n",
    "            if len(re.findall(pattern, char)) != 0:\n",
    "                s+=char\n",
    "            elif char == '_':\n",
    "                s+=char\n",
    "        else:\n",
    "            s+=char\n",
    "    s = re.sub('\\\\s+',' ',s).strip()\n",
    "    return s.strip()\n",
    "\n",
    "def simple_processing(text):\n",
    "    text = text.strip()\n",
    "    text = text.replace('Title: ', '')\n",
    "    text = text.replace('Description: ', '')\n",
    "    text = re.sub(r\"\\s+\",\" \", text)\n",
    "    text = remove_icon(text)\n",
    "    text = ViTokenizer.tokenize(text)\n",
    "    for punc in string.punctuation:\n",
    "        if punc != \"_\":\n",
    "            text = text.replace(punc, \"\")\n",
    "    text = text.strip()\n",
    "    text = re.sub(\"\\\\s+\",\" \", text).lower()\n",
    "    return text"
   ]
  },
  {
   "cell_type": "code",
   "execution_count": 107,
   "metadata": {},
   "outputs": [],
   "source": [
    "processed_titles = [simple_processing(title) for title in titles]\n"
   ]
  },
  {
   "cell_type": "code",
   "execution_count": 108,
   "metadata": {},
   "outputs": [
    {
     "name": "stdout",
     "output_type": "stream",
     "text": [
      "##########################################################\n",
      "preprocessed: Title: Sữa Bột Vinamilk Nguyên Kem 900g (hộp sắt/thiếc)\n",
      "\n",
      "Description: Chất lượng sản phẩm tốt.Cam kết sản phẩm như mô tả.Sản phẩm dễ sử dụng, có độ bền cao.Sản phẩm như hình. MÔ TẢ SẢN PHẨMSỮA BỘT NGUYÊN KEM CÓ ĐƯỜNG VINAMILK DINH DƯỠNG\n",
      "processed: sữa bột vinamilk nguyên kem g hộp sắtthiếc chất_lượng sản_phẩm tốt cam_kết sản_phẩm như mô_tả sản_phẩm dễ sử_dụng có độ bền cao sản_phẩm như hình mô_tả sản phẩmsữa bột nguyên kem có đường vinamilk dinh_dưỡng\n",
      "##########################################################\n",
      "preprocessed: Title: Gold Hepolin Sản phẩm bổ gan chính hãng\n",
      "\n",
      "Description: Công Dụng:Viên Bổ Gan Goldhepolin Trắng Hàn Quốc - Liều dùng:Mỗi ngày 1 viên - uống sau bữa ănQuy cách: Hộp: 60 viên x 870mgCách bảo quản: Bảo quản nơi khô ráo thoáng mát, tránh ánh nắng trực tiếpXuất xứ: Korean Ginseng Research Co., Ltd. - JECSCO\n",
      "processed: gold hepolin sản_phẩm bổ gan chính hãng công dụngviên bổ gan goldhepolin trắng hàn quốc liều dùngmỗi ngày viên uống sau bữa ănquy cách hộp viên x mgcách bảo_quản bảo_quản nơi khô_ráo thoáng mát tránh ánh nắng trực tiếpxuất xứ korean ginseng research co ltd jecsco\n",
      "##########################################################\n",
      "preprocessed: Title: [Mã FMCGMALL giảm 8% đơn từ 250K] Sữa Aptakid New Zealand số 3 900g\n",
      "\n",
      "Description: Sữa Aptakid New Zealand số 3 mới chứa hàm lượng DHA cùng công thức SYNBIOTIC độc quyền, giúp tăng cường hệ miễn dịch và cung cấp dưỡng chất thiết yếu để bé phát triển khoẻ mạnh. ➡Thông tin chi tiết: 🔹 Khối lượng tịnh: 900gr/ hộp thiếc 🔹 Độ tuổi: 24 tháng tuổi trở lên 🔹 HSD: 18 tháng kể từ NSX 🔹Thương hiệu: Aptamil 🔹Xuất xứ: New Zealand ➡ Điểm nổi bật của SỮA APTAKID NEW ZEALAND số 3 dành cho bé trên 2 tuổi ▶️ Công thức SYNBIOTIC độc quyền trong Aptakid là sự kết hợp độc đáo của Prebiotics GOS/FOS (9:1) và Probiotic Bifido Breve M-16V. Sự kết hợp này là bước đột phá lớn mang lại nguồn dinh dưỡng thiết yếu giúp bé tăng cường miễn dịch, lớn khôn khỏe mạnh. ▶️Sữa Aptakid Mới chứa cả hệ dưỡng chất SYNBIOTIC, hỗ trợ hệ tiêu hoá, từ đó giúp tăng cường hệ miễn dịch cho bé lớn lên khoẻ mạnh. ▶️Canxi và Vitamin D3 giúp răng và xương rắn chắc, phát triển chiều cao tối ưu. ▶️DHA tốt cho sự phát triển của não bộ ▶️16 Vitamin và khoáng chất giúp trẻ phát triển bình thường và khỏe. ▶️Aptakid 3 là sản phẩm dinh dưỡng dành cho bé từ hai tuổi trở lên. Độ tuổi này tương đồng với dòng SỮA APTAMIL ANH 4 đã có mặt trên thị trường. ▶️ Hơn nữa, sữa Aptakid được đóng gói trong hộp thiếc cao cấp nhằm đảm bảo chất lượng sản phẩm và giúp bảo quản lâu hơn trong quá trình sử dụng. 👉Hướng dẫn sử dụng ☑Tiệt trùng các dụng cụ pha sữa ☑Đun nước sôi để nguội đến nhiệt độ khoảng 40 độ ☑Thêm bột đúng lượng dùng khuyến nghị (4 muỗng) vào bình. 👉Lưu ý: Pha 1 thìa gạt ngang sữa với 50ml nước đun sôi để nguội ☑Sữa đã pha không dùng cho trẻ sau 2 giờ. 👉Bảo quản: Sữa Aptamil Newzealand nơi khô ráo, thoáng mát. 💖 SHOP TRẺ THƠ CAM KẾT 💖 🚩 Cung cấp sản phẩm CHÍNH HÃNG, an toàn và chất lượng cho bé. 🚩 Sản phẩm tới tay khách hàng luôn đảm bảo: DATE mới nhất - GIÁ tốt nhất. 🚩 Hỗ trợ tư vấn và giải đáp 24/7 mọi thắc mắc của khách hàng. 🚩 Đổi trả sản phẩm theo đúng chính sách của Shopee (Nếu do lỗi từ phía nhà sản xuất). 🚩 Quý khách muốn lựa chọn thêm các sản phẩm khác của Shop Trẻ Thơ vui lòng Click ► https://shopee.vn/shoptretho_official_store #aptakid #suaaptakid #aptakidso3 #aptamil #suaaptamiluc # suaatamilanh #suanewzealand #suaaptamilucso1 #suacongthuc #sua #cong #suachobe #suachobe6thang #suabot #suamat #suatangchieucao #suachobe2tuoi #suachobe3tuoi #suanhapkhau #suachinhhang #suahop\n",
      "processed: mã fmcgmall giảm đơn từ k sữa aptakid new zealand số g sữa aptakid new zealand số mới chứa hàm_lượng dha cùng công_thức synbiotic độc_quyền giúp tăng_cường hệ miễn_dịch và cung_cấp dưỡng_chất thiết_yếu để bé phát_triển khoẻ_mạnh thông_tin chi_tiết khối_lượng tịnh gr hộp thiếc độ tuổi tháng tuổi trở lên hsd tháng kể từ nsx thương_hiệu aptamil xuất_xứ new zealand điểm nổi_bật của sữa aptakid new zealand số dành cho bé trên tuổi công_thức synbiotic độc_quyền trong aptakid là sự kết_hợp độc_đáo của prebiotics gosfos và probiotic bifido breve mv sự kết_hợp này là bước đột_phá lớn mang lại nguồn dinh_dưỡng thiết_yếu giúp bé tăng_cường miễn_dịch lớn_khôn khỏe_mạnh sữa aptakid mới chứa cả hệ dưỡng_chất synbiotic hỗ_trợ hệ tiêu_hoá từ đó giúp tăng_cường hệ miễn_dịch cho bé lớn lên khoẻ_mạnh canxi và vitamin d giúp răng và xương rắn_chắc phát_triển chiều cao tối_ưu dha tốt cho sự phát_triển của não bộ vitamin và khoáng_chất giúp trẻ phát_triển bình_thường và khỏe aptakid là sản_phẩm dinh_dưỡng dành cho bé từ hai tuổi trở lên độ tuổi này tương_đồng với dòng sữa aptamil anh đã có_mặt trên thị_trường hơn nữa sữa aptakid được đóng_gói trong hộp thiếc cao_cấp nhằm đảm_bảo chất_lượng sản_phẩm và giúp bảo_quản lâu hơn trong quá_trình sử_dụng hướng_dẫn sử_dụng tiệt trùng các dụng_cụ pha sữa đun nước sôi để nguội đến nhiệt_độ khoảng độ thêm bột đúng lượng dùng khuyến_nghị muỗng vào bình lưu_ý pha thìa gạt ngang sữa với ml nước đun sôi để nguội sữa đã pha không dùng cho trẻ sau giờ bảo_quản sữa aptamil newzealand nơi khô_ráo thoáng mát shop trẻ_thơ cam_kết cung_cấp sản_phẩm chính hãng an_toàn và chất_lượng cho bé sản_phẩm tới tay khách_hàng luôn đảm_bảo date mới nhất giá tốt nhất hỗ_trợ tư_vấn và giải_đáp mọi thắc_mắc của khách_hàng đổi trả sản_phẩm theo đúng chính_sách của shopee nếu do lỗi từ phía nhà sản_xuất quý_khách muốn lựa_chọn thêm các sản_phẩm khác của shop trẻ_thơ vui_lòng click httpsshopee vnshoptretho_official_store aptakid suaaptakid aptakidso aptamil suaaptamiluc suaatamilanh suanewzealand suaaptamilucso suacongthuc sua cong suachobe suachobethang suabot suamat suatangchieucao suachobetuoi suachobetuoi suanhapkhau suachinhhang suahop\n",
      "##########################################################\n",
      "preprocessed: Title: Sữa Semper Nga số 1\n",
      "\n",
      "Description: #Sữa_Semper Nga số 1 dành cho bé từ 0-6 tháng. Đặc điểm: - Hình thức đóng gói đẹp; - Hương vị thơm ngon, ngậy béo, ngọt hơi nhẹ; - cung cấp đủ năng lượng, vitamin, khoáng chất - Bổ sung chất xơ, men vi sinh hỗ trợ tiêu hoá cho bé.\n",
      "processed: sữa semper nga số sữa_semper nga số dành cho bé từ tháng đặc_điểm hình_thức đóng_gói đẹp hương_vị thơm ngon ngậy béo ngọt hơi nhẹ cung_cấp đủ năng_lượng vitamin khoáng_chất bổ_sung chất xơ men vi_sinh hỗ_trợ tiêu_hoá cho bé\n",
      "##########################################################\n",
      "preprocessed: Title: [HCM]Tẩy Giun Sán BIO-RANTEL Cho Chó Mèo - Xổ Giun Chó Mèo ( 2 Viên ) - [Nông Trại Thú Cưng]\n",
      "\n",
      "Description: 1 Viên 5kg chó hoặc mèo.Kéo dài 3-6 tháng tùy vào môi trường.An toàn cho mọi loại thú cưng.Không lo giun sán cho thú và người trong gia đình.Hãy sử dụng sản phẩm trên bảo hộ cho bé cưng của bạn khỏi giun, sán nguy hiểm.\n",
      "processed: hcmtẩy giun_sán biorantel cho chó mèo xổ giun chó mèo viên nông_trại thú cưng viên kg chó hoặc mèo kéo dài tháng tùy vào môi_trường an_toàn cho mọi loại thú cưng không lo giun_sán cho thú và người trong gia_đình hãy sử_dụng sản_phẩm trên bảo_hộ cho bé cưng của bạn khỏi giun sán nguy_hiểm\n",
      "##########################################################\n",
      "preprocessed: Title: robot kim loại\n",
      "\n",
      "Description: sản phẩm có thể tháo rời khi vận chuyển và có thể vặn vô lại bằng tay dễ dàng sản phẩm được tái chế từ các loại nhông ,sên. xít xe các loại. làm ra những sản phẩm thủ công được tạo hình đẹp mắt với những nhân vật trong phim như :alien.predators. rồng có cánh. rồng lửa.......\n",
      "processed: robot kim_loại sản_phẩm có_thể tháo rời khi vận_chuyển và có_thể vặn vô_lại bằng tay dễ_dàng sản_phẩm được tái_chế từ các loại nhông sên xít xe các loại làm ra những sản_phẩm thủ_công được tạo_hình đẹp_mắt với những nhân_vật trong phim như alien predators rồng có cánh rồng lửa\n",
      "##########################################################\n",
      "preprocessed: Title: [Chính Hãng] Sữa Bột Ensure Gold Hương Vani Lon 850g\n",
      "\n",
      "Description: Sữa bột Abbott Ensure Gold hương vani 850g được đặc chế hỗn hợp chất béo giàu PUFA, MUFA rất tốt cho hệ tim mạch. Sữa cũng cung cấp các acid béo thiết yếu như linoleic và linolenic ,hàm lượng acib béo no và cholesterol thấp phù hợp vs chế độ ăn lành mạnh hằng ngày của bạn.\n",
      "processed: chính hãng sữa bột ensure gold hương vani lon g sữa bột abbott ensure gold hương vani g được đặc_chế hỗn_hợp_chất_béo giàu pufa mufa rất tốt cho hệ tim_mạch sữa cũng cung_cấp các acid_béo thiết_yếu như linoleic và linolenic hàm_lượng acib béo no và cholesterol thấp phù_hợp vs chế_độ ăn lành_mạnh hằng ngày của bạn\n",
      "##########################################################\n",
      "preprocessed: Title: 2021 new women's elastic waist slimming skirt with long printed temperament short sleeve dress\n",
      "\n",
      "Description: &amp; #8226; &amp; #8226; &amp; #8226; &amp; #8226; &amp; #8226; &amp; #8226; &amp; #8226; &amp; #8226; &amp; #8195; &amp; #8195 雪纺/涤纶(聚酯纤维) 成分含量:31%(含)-50%(含) 适用年龄:中青年(26-40 周岁) 是否加绒:不加绒 上市时节:2021 年春季 袖型:其他 &nbsp;\n",
      "processed: new womens elastic waist slimming skirt with long printed temperament short sleeve dress amp amp amp amp amp amp amp amp amp amp nbsp\n",
      "##########################################################\n",
      "preprocessed: Title: Hạt điều hữu cơ nhân trắng vỡ đôi Việt Organic 1kg\n",
      "\n",
      "Description: \n",
      "processed: hạt điều hữu_cơ nhân trắng vỡ đôi việt organic kg description\n",
      "##########################################################\n",
      "preprocessed: Title: WHEY PROTEIN - OPTIMUM NUTRITION - PLATINUM HYDRO WHEY - 3.5lbs - Bổ sung protein tăng cơ giảm mỡ\n",
      "\n",
      "Description: ENGLISH BELOW..On Platinum có phải là dòng whey hydro tốt nhất?.Platinum Hydrowhey được sản xuất bởi Optimum Nutrition (ON), là một trong nhữung loại Whey tiên tiến nhất trên thị trường hiện nay. Thực tế đây là một trong những sản phẩm được nhà sản xuất tập trung nghiên cứu và phát triển công phu nhất. Loại bột Whey này là tuyệt vời nhất cho những người đang luyện tập thể hình, tập Gym và những người đang tìm kiếm cho mình một loại thực phẩm bổ sung Protein trước và sau khi tập với cường độ cao. Với công thức đặc biệt này, sản phẩm sẽ cung cấp cho bạn một lượng Protein tối ưu cho việc luyện tập của bạn..Hỗn hợp giàu đinh dưỡng này được sản xuất bằng quá trình thủy phân nguồn Protein đã được cô lập. Các phân tử Protein có kích thước rất lớn và phức tạp. Để cơ thể có khả năng hấp thu được, nguồn Protein này phải được phân tách thành những phần nhỏ hơn, thấm vào máu và được đưa đến những nơi cần sử dụng, cụ thể là các vùng cơ bắp.Cơ sở khoa học vững chắc tạo nên sản phẩm chất lượngProtein ở dạng nguyên bản sẽ rất “cồng kềnh” và khó di chuyển, khó hấp thu. Điều này đã được giải quyết bằng công nghệ lọc phân tách (Isolate) để thu được các “mảnh” protein có kích thước nhỏ hơn và Hydrolyzed (Thủy phân) giúp các phân tử này dễ hấp thu và chuyển hóa. Kích thước nhỏ hơn, lại dễ hấp thu, đó chính là điều kiện để các phân tử Protein trong Hydro Pro có thể dễ dàng được chuyển đến các bó cơ và làm nhiệm vụ của chúng là phục hồi sự phát triển của cơ bắp và phát triển nhanh hơn..Những gì có trong Platinum Hydrowhey?Thành phần của Platinum Hydrowhey khá đơn giản. Tất cả được làm từ Protein 100% siêu tinh khiết chủ yếu gồm Leucine, Iso-leucine và Valine theo tỷ lệ 2:1:1. Ngoài ra còn có các Axit amin khác được thêm vào hỗn hợp để cung cấp cho bạn những Protein tốt nhất theo công thức dễ hấp thu.HYDROLYZED WHEY PROTEIN ISOLATESPlatinum Hydrowhey® is the most advanced whey protein we've ever developed. In a word: Excellence. By hydrolyzing whey protein isolates to break larger proteins down into smaller pieces, these ultra-pure whey isolates are able to get into your system rapidly, enabling your muscles to start recovering from heavy training. We've dialed up this ultra pure and rapidly-digesting formula with added micronized Branched Chain Amino Acids (BCAAs).Made With Advanced Hydrolyzed Whey Protein Isolates for Faster Delivery30 Grams of Ultra-Pure Protein Per ServingNearly 9 Grams of Naturally Occurring and Added Leucine, Isoleucine, and Valine (BCAAs) per ScoopInstantized to Mix Easily With a Spoon\n",
      "processed: whey protein optimum nutrition platinum hydro whey lbs bổ_sung protein tăng cơ giảm mỡ english below on platinum có phải là dòng whey hydro tốt nhất platinum hydrowhey được sản_xuất bởi optimum nutrition on là một trong nhữung loại whey tiên_tiến nhất trên thị_trường hiện_nay thực_tế đây là một trong những sản_phẩm được nhà sản_xuất tập_trung nghiên_cứu và phát_triển công_phu nhất loại bột whey này là tuyệt_vời nhất cho những người đang luyện_tập_thể_hình tập gym và những người đang tìm_kiếm cho mình một loại thực_phẩm bổ_sung protein trước và sau khi tập với cường_độ cao với công_thức đặc_biệt này sản_phẩm sẽ cung_cấp cho bạn một lượng protein tối_ưu cho việc luyện_tập của bạn hỗn_hợp giàu đinh dưỡng này được sản_xuất bằng quá_trình thủy_phân nguồn protein đã được cô_lập các phân_tử protein có kích_thước rất lớn và phức_tạp để cơ_thể có khả_năng hấp_thu được nguồn protein này phải được phân_tách thành những phần nhỏ hơn thấm vào máu và được đưa đến những nơi cần sử_dụng cụ_thể là các vùng cơ_bắp cơ_sở khoa_học vững_chắc tạo nên sản_phẩm_chất lượngprotein ở dạng nguyên_bản sẽ rất cồng_kềnh và khó di_chuyển khó hấp_thu điều này đã được giải_quyết bằng công_nghệ lọc phân_tách isolate để thu được các mảnh protein có kích_thước nhỏ hơn và hydrolyzed thủy_phân giúp các phân_tử này dễ hấp_thu và chuyển_hóa kích_thước nhỏ hơn lại dễ hấp_thu đó chính là điều_kiện để các phân_tử protein trong hydro pro có_thể dễ_dàng được chuyển đến các bó cơ và làm nhiệm_vụ của chúng là phục_hồi sự phát_triển của cơ_bắp và phát_triển nhanh hơn những gì có trong platinum hydrowheythành phần của platinum hydrowhey khá đơn_giản tất_cả được làm từ protein siêu tinh_khiết chủ_yếu gồm leucine isoleucine và valine theo tỷ_lệ ngoài_ra còn có các axit amin khác được thêm vào hỗn_hợp để cung_cấp cho bạn những protein tốt nhất theo công_thức dễ hấp_thu hydrolyzed whey protein isolatesplatinum hydrowhey is the most advanced whey protein weve ever developed in a word excellence by hydrolyzing whey protein isolates to break larger proteins down into smaller pieces these ultrapure whey isolates are able to get into your system rapidly enabling your muscles to start recovering from heavy training weve dialed up this ultra pure and rapidlydigesting formula with added micronized branched chain amino acids bcaas made with advanced hydrolyzed whey protein isolates for faster delivery grams of ultrapure protein per servingnearly grams of naturally occurring and added leucine isoleucine and valine bcaas per scoopinstantized to mix easily with a spoon\n"
     ]
    }
   ],
   "source": [
    "for i in range(10):\n",
    "    print('##########################################################')\n",
    "    print(\"preprocessed: \" + titles[i])\n",
    "    print(\"processed: \" + processed_titles[i])"
   ]
  },
  {
   "cell_type": "markdown",
   "metadata": {},
   "source": [
    "## Split the data in to train and test set (80/20 ratio)"
   ]
  },
  {
   "cell_type": "code",
   "execution_count": 114,
   "metadata": {},
   "outputs": [],
   "source": [
    "# Split train:test set from data\n",
    "test_ratio = 0.2\n",
    "x_train, x_test, y_train, y_test = model_selection.train_test_split(\n",
    "    processed_titles, label_indices, \n",
    "    test_size=test_ratio,\n",
    "    stratify=label_indices\n",
    ")"
   ]
  },
  {
   "cell_type": "code",
   "execution_count": 116,
   "metadata": {},
   "outputs": [
    {
     "data": {
      "text/plain": [
       "(11999, 3000)"
      ]
     },
     "execution_count": 116,
     "metadata": {},
     "output_type": "execute_result"
    }
   ],
   "source": [
    "len(x_train), len(x_test)"
   ]
  },
  {
   "cell_type": "code",
   "execution_count": 115,
   "metadata": {},
   "outputs": [
    {
     "data": {
      "text/plain": [
       "(11999, 3000)"
      ]
     },
     "execution_count": 115,
     "metadata": {},
     "output_type": "execute_result"
    }
   ],
   "source": [
    "len(y_train), len(y_test)"
   ]
  },
  {
   "cell_type": "markdown",
   "metadata": {},
   "source": [
    "## Train Classifier model"
   ]
  },
  {
   "cell_type": "code",
   "execution_count": 109,
   "metadata": {},
   "outputs": [],
   "source": [
    "# This function is to plot the confusion matrix\n",
    "def plot_confusion_matrix(cm,\n",
    "                          target_names,\n",
    "                          title='Confusion matrix',\n",
    "                          cmap=None,\n",
    "                          normalize=False):\n",
    "    import matplotlib.pyplot as plt\n",
    "    import numpy as np\n",
    "    import itertools\n",
    "\n",
    "    accuracy = np.trace(cm) / np.sum(cm).astype('float')\n",
    "    misclass = 1 - accuracy\n",
    "\n",
    "    if cmap is None:\n",
    "        cmap = plt.get_cmap('Blues')\n",
    "\n",
    "    plt.figure(figsize=(12, 12))\n",
    "    plt.imshow(cm, interpolation='nearest', cmap=cmap)\n",
    "    plt.title(title)\n",
    "    plt.colorbar()\n",
    "\n",
    "    if target_names is not None:\n",
    "        tick_marks = np.arange(len(target_names))\n",
    "        plt.xticks(tick_marks, target_names, rotation=90)\n",
    "        plt.yticks(tick_marks, target_names)\n",
    "\n",
    "    if normalize:\n",
    "        cm = cm.astype('float') / cm.sum(axis=1)[:, np.newaxis]\n",
    "\n",
    "\n",
    "    thresh = cm.max() / 1.5 if normalize else cm.max() / 2\n",
    "    for i, j in itertools.product(range(cm.shape[0]), range(cm.shape[1])):\n",
    "        if normalize:\n",
    "            plt.text(j, i, \"{:0.4f}\".format(cm[i, j]),\n",
    "                     horizontalalignment=\"center\",\n",
    "                     color=\"white\" if cm[i, j] > thresh else \"black\")\n",
    "        else:\n",
    "            plt.text(j, i, \"{:,}\".format(cm[i, j]),\n",
    "                     horizontalalignment=\"center\",\n",
    "                     color=\"white\" if cm[i, j] > thresh else \"black\")\n",
    "\n",
    "\n",
    "    plt.tight_layout()\n",
    "    plt.ylabel('True label')\n",
    "    plt.xlabel('Predicted label\\naccuracy={:0.4f}; misclass={:0.4f}'.format(accuracy, misclass))\n",
    "    plt.show()"
   ]
  },
  {
   "cell_type": "markdown",
   "metadata": {},
   "source": [
    "### Feature extractor with different techniques"
   ]
  },
  {
   "cell_type": "code",
   "execution_count": 110,
   "metadata": {},
   "outputs": [],
   "source": [
    "def get_TFIDF_feature_extractor(max_feature_dim=5000, ngram_range=(1,2)):\n",
    "    \n",
    "    tfidf_vectorizer = feature_extraction.text.TfidfVectorizer(max_features=5000, ngram_range=ngram_range)\n",
    "    \n",
    "    return tfidf_vectorizer"
   ]
  },
  {
   "cell_type": "code",
   "execution_count": 111,
   "metadata": {},
   "outputs": [],
   "source": [
    "def get_BoW_feature_extractor(max_feature_dim=5000, ngram_range=(1,2)):\n",
    "    \n",
    "    bow_vectorizer = feature_extraction.text.CountVectorizer(max_features=max_feature_dim, ngram_range=ngram_range)\n",
    "    return bow_vectorizer"
   ]
  },
  {
   "cell_type": "code",
   "execution_count": 112,
   "metadata": {},
   "outputs": [],
   "source": [
    "def get_W2V_feature_extractor(w2v_corpus, vector_size=300):\n",
    "    \n",
    "    w2v_vectorizer = gensim.models.word2vec.Word2Vec(w2v_corpus, vector_size=300,   \n",
    "            window=8, min_count=1, sg=1)  #word2vec with embedding size is 300\n",
    "    return w2v_vectorizer"
   ]
  },
  {
   "cell_type": "code",
   "execution_count": 113,
   "metadata": {},
   "outputs": [],
   "source": [
    "class MeanEmbeddingVectorizer(object):\n",
    "    def __init__(self, word2vec, size=100):\n",
    "        self.word2vec = word2vec\n",
    "        # if a text is empty we should return a vector of zeros\n",
    "        # with the same dimensionality as all the other vectors\n",
    "        self.dim = size\n",
    "\n",
    "    def fit(self, X, y):\n",
    "        return self\n",
    "\n",
    "    def transform(self, X):\n",
    "        X_ = []\n",
    "       \n",
    "        for sentence in X:\n",
    "            temp = np.zeros(300)\n",
    "            words = sentence.split(\" \")\n",
    "            for w in words:\n",
    "              temp += self.word2vec.wv[w].reshape(( 300))\n",
    "              \n",
    "            X_.append(temp/len(words))\n",
    "        return X_"
   ]
  },
  {
   "cell_type": "code",
   "execution_count": 117,
   "metadata": {},
   "outputs": [],
   "source": [
    "# Extract TFIDF features\n",
    "tfidf_extractor = get_TFIDF_feature_extractor()\n",
    "tfidf_feature = tfidf_extractor.fit_transform(x_train)"
   ]
  },
  {
   "cell_type": "code",
   "execution_count": 118,
   "metadata": {},
   "outputs": [],
   "source": [
    "# Extract BoW features\n",
    "bow_extractor = get_BoW_feature_extractor()\n",
    "bow_feature = bow_extractor.fit_transform(x_train)"
   ]
  },
  {
   "cell_type": "code",
   "execution_count": 120,
   "metadata": {},
   "outputs": [],
   "source": [
    "# Create Word2Vec Corpus\n",
    "w2v_corpus = []\n",
    "for i in processed_titles:\n",
    "  temp = i.split(\" \")\n",
    "  w2v_corpus.append(temp)\n",
    "\n",
    "w2v_model = get_W2V_feature_extractor(w2v_corpus, vector_size=300) #create the w2v model based on the x_train corpus\n",
    "mean_w2v_embedding = MeanEmbeddingVectorizer(w2v_model,300) #Create the mean embedding vectorizer\n",
    "w2v_feature =  mean_w2v_embedding.transform(x_train)  #Embedd the training data"
   ]
  },
  {
   "cell_type": "code",
   "execution_count": 121,
   "metadata": {},
   "outputs": [],
   "source": [
    "def optimize_model_parameter(model, tfidf_features, Y_train):\n",
    "    '''\n",
    "    Perform hyper parameter tuning for model\n",
    "    '''\n",
    "    best_model = model.fit(tfidf_features, Y_train)\n",
    "    #print(svm_grid_model.best_estimator_) \n",
    "    \n",
    "    # Estimate the best accuracy\n",
    "    train_accuracy = best_model.best_score_ *100\n",
    "    print(\"Accuracy for our training dataset with tuning is : {:.2f}%\".format(train_accuracy) )\n",
    "    return best_model\n",
    "\n",
    "def evaluate_model(model, X_test, Y_test):\n",
    "    '''\n",
    "    Initial evaluate model on test set\n",
    "    '''\n",
    "    # Predict topic indices in x_test\n",
    "    y_test_hat = model.predict(x_test)\n",
    "\n",
    "    # Estimate the testing accuracy\n",
    "    test_accuracy = metrics.accuracy_score(y_test,y_test_hat)*100\n",
    "    print(\"Accuracy for our testing dataset with tuning is : {:.2f}%\".format(test_accuracy) )\n",
    "    return test_accuracy"
   ]
  },
  {
   "cell_type": "code",
   "execution_count": 124,
   "metadata": {},
   "outputs": [],
   "source": [
    "def get_SVM_linear_model():\n",
    "    '''\n",
    "    Get linear SVM model and list of parameters\n",
    "    '''\n",
    "    # Initialize SVM model as a classifier\n",
    "    svm_model = svm.SVC(probability=True) \n",
    "\n",
    "    # Define config for params\n",
    "    param_grid = {'C': [ 50, 150, 100, 200, 300], \n",
    "                  'gamma': [1,0.1,0.01,0.001],\n",
    "                  'kernel': ['linear', 'rbf']} \n",
    "\n",
    "    # Perform Grid search\n",
    "    grid = GridSearchCV(\n",
    "        svm_model, \n",
    "        param_grid, \n",
    "        refit = True, \n",
    "        verbose = 3, \n",
    "        cv=5,\n",
    "        n_jobs=2\n",
    "    )\n",
    "    \n",
    "    return grid"
   ]
  },
  {
   "cell_type": "code",
   "execution_count": 125,
   "metadata": {},
   "outputs": [
    {
     "name": "stdout",
     "output_type": "stream",
     "text": [
      "Fitting 5 folds for each of 40 candidates, totalling 200 fits\n"
     ]
    },
    {
     "ename": "KeyboardInterrupt",
     "evalue": "",
     "output_type": "error",
     "traceback": [
      "\u001b[1;31m---------------------------------------------------------------------------\u001b[0m",
      "\u001b[1;31mKeyboardInterrupt\u001b[0m                         Traceback (most recent call last)",
      "\u001b[1;32m<ipython-input-125-9928e17873aa>\u001b[0m in \u001b[0;36m<module>\u001b[1;34m\u001b[0m\n\u001b[0;32m      3\u001b[0m \u001b[1;33m\u001b[0m\u001b[0m\n\u001b[0;32m      4\u001b[0m \u001b[1;31m# Hyper parameter tuning\u001b[0m\u001b[1;33m\u001b[0m\u001b[1;33m\u001b[0m\u001b[1;33m\u001b[0m\u001b[0m\n\u001b[1;32m----> 5\u001b[1;33m \u001b[0moptimized_model\u001b[0m \u001b[1;33m=\u001b[0m \u001b[0moptimize_model_parameter\u001b[0m\u001b[1;33m(\u001b[0m\u001b[0msvm_grid_model\u001b[0m\u001b[1;33m,\u001b[0m \u001b[0mtfidf_feature\u001b[0m\u001b[1;33m,\u001b[0m \u001b[0my_train\u001b[0m\u001b[1;33m)\u001b[0m\u001b[1;33m\u001b[0m\u001b[1;33m\u001b[0m\u001b[0m\n\u001b[0m\u001b[0;32m      6\u001b[0m \u001b[1;31m# Classifier pipeline\u001b[0m\u001b[1;33m\u001b[0m\u001b[1;33m\u001b[0m\u001b[1;33m\u001b[0m\u001b[0m\n\u001b[0;32m      7\u001b[0m model = pipeline.Pipeline([(\"vectorizer\", tfidf_extractor),  \n",
      "\u001b[1;32m<ipython-input-121-c0393d5cbe70>\u001b[0m in \u001b[0;36moptimize_model_parameter\u001b[1;34m(model, tfidf_features, Y_train)\u001b[0m\n\u001b[0;32m      3\u001b[0m     \u001b[0mPerform\u001b[0m \u001b[0mhyper\u001b[0m \u001b[0mparameter\u001b[0m \u001b[0mtuning\u001b[0m \u001b[1;32mfor\u001b[0m \u001b[0mmodel\u001b[0m\u001b[1;33m\u001b[0m\u001b[1;33m\u001b[0m\u001b[0m\n\u001b[0;32m      4\u001b[0m     '''\n\u001b[1;32m----> 5\u001b[1;33m     \u001b[0mbest_model\u001b[0m \u001b[1;33m=\u001b[0m \u001b[0mmodel\u001b[0m\u001b[1;33m.\u001b[0m\u001b[0mfit\u001b[0m\u001b[1;33m(\u001b[0m\u001b[0mtfidf_features\u001b[0m\u001b[1;33m,\u001b[0m \u001b[0mY_train\u001b[0m\u001b[1;33m)\u001b[0m\u001b[1;33m\u001b[0m\u001b[1;33m\u001b[0m\u001b[0m\n\u001b[0m\u001b[0;32m      6\u001b[0m     \u001b[1;31m#print(svm_grid_model.best_estimator_)\u001b[0m\u001b[1;33m\u001b[0m\u001b[1;33m\u001b[0m\u001b[1;33m\u001b[0m\u001b[0m\n\u001b[0;32m      7\u001b[0m \u001b[1;33m\u001b[0m\u001b[0m\n",
      "\u001b[1;32m~\\AppData\\Roaming\\Python\\Python38\\site-packages\\sklearn\\model_selection\\_search.py\u001b[0m in \u001b[0;36mfit\u001b[1;34m(self, X, y, groups, **fit_params)\u001b[0m\n\u001b[0;32m    889\u001b[0m                 \u001b[1;32mreturn\u001b[0m \u001b[0mresults\u001b[0m\u001b[1;33m\u001b[0m\u001b[1;33m\u001b[0m\u001b[0m\n\u001b[0;32m    890\u001b[0m \u001b[1;33m\u001b[0m\u001b[0m\n\u001b[1;32m--> 891\u001b[1;33m             \u001b[0mself\u001b[0m\u001b[1;33m.\u001b[0m\u001b[0m_run_search\u001b[0m\u001b[1;33m(\u001b[0m\u001b[0mevaluate_candidates\u001b[0m\u001b[1;33m)\u001b[0m\u001b[1;33m\u001b[0m\u001b[1;33m\u001b[0m\u001b[0m\n\u001b[0m\u001b[0;32m    892\u001b[0m \u001b[1;33m\u001b[0m\u001b[0m\n\u001b[0;32m    893\u001b[0m             \u001b[1;31m# multimetric is determined here because in the case of a callable\u001b[0m\u001b[1;33m\u001b[0m\u001b[1;33m\u001b[0m\u001b[1;33m\u001b[0m\u001b[0m\n",
      "\u001b[1;32m~\\AppData\\Roaming\\Python\\Python38\\site-packages\\sklearn\\model_selection\\_search.py\u001b[0m in \u001b[0;36m_run_search\u001b[1;34m(self, evaluate_candidates)\u001b[0m\n\u001b[0;32m   1390\u001b[0m     \u001b[1;32mdef\u001b[0m \u001b[0m_run_search\u001b[0m\u001b[1;33m(\u001b[0m\u001b[0mself\u001b[0m\u001b[1;33m,\u001b[0m \u001b[0mevaluate_candidates\u001b[0m\u001b[1;33m)\u001b[0m\u001b[1;33m:\u001b[0m\u001b[1;33m\u001b[0m\u001b[1;33m\u001b[0m\u001b[0m\n\u001b[0;32m   1391\u001b[0m         \u001b[1;34m\"\"\"Search all candidates in param_grid\"\"\"\u001b[0m\u001b[1;33m\u001b[0m\u001b[1;33m\u001b[0m\u001b[0m\n\u001b[1;32m-> 1392\u001b[1;33m         \u001b[0mevaluate_candidates\u001b[0m\u001b[1;33m(\u001b[0m\u001b[0mParameterGrid\u001b[0m\u001b[1;33m(\u001b[0m\u001b[0mself\u001b[0m\u001b[1;33m.\u001b[0m\u001b[0mparam_grid\u001b[0m\u001b[1;33m)\u001b[0m\u001b[1;33m)\u001b[0m\u001b[1;33m\u001b[0m\u001b[1;33m\u001b[0m\u001b[0m\n\u001b[0m\u001b[0;32m   1393\u001b[0m \u001b[1;33m\u001b[0m\u001b[0m\n\u001b[0;32m   1394\u001b[0m \u001b[1;33m\u001b[0m\u001b[0m\n",
      "\u001b[1;32m~\\AppData\\Roaming\\Python\\Python38\\site-packages\\sklearn\\model_selection\\_search.py\u001b[0m in \u001b[0;36mevaluate_candidates\u001b[1;34m(candidate_params, cv, more_results)\u001b[0m\n\u001b[0;32m    836\u001b[0m                     )\n\u001b[0;32m    837\u001b[0m \u001b[1;33m\u001b[0m\u001b[0m\n\u001b[1;32m--> 838\u001b[1;33m                 out = parallel(\n\u001b[0m\u001b[0;32m    839\u001b[0m                     delayed(_fit_and_score)(\n\u001b[0;32m    840\u001b[0m                         \u001b[0mclone\u001b[0m\u001b[1;33m(\u001b[0m\u001b[0mbase_estimator\u001b[0m\u001b[1;33m)\u001b[0m\u001b[1;33m,\u001b[0m\u001b[1;33m\u001b[0m\u001b[1;33m\u001b[0m\u001b[0m\n",
      "\u001b[1;32m~\\AppData\\Roaming\\Python\\Python38\\site-packages\\joblib\\parallel.py\u001b[0m in \u001b[0;36m__call__\u001b[1;34m(self, iterable)\u001b[0m\n\u001b[0;32m   1054\u001b[0m \u001b[1;33m\u001b[0m\u001b[0m\n\u001b[0;32m   1055\u001b[0m             \u001b[1;32mwith\u001b[0m \u001b[0mself\u001b[0m\u001b[1;33m.\u001b[0m\u001b[0m_backend\u001b[0m\u001b[1;33m.\u001b[0m\u001b[0mretrieval_context\u001b[0m\u001b[1;33m(\u001b[0m\u001b[1;33m)\u001b[0m\u001b[1;33m:\u001b[0m\u001b[1;33m\u001b[0m\u001b[1;33m\u001b[0m\u001b[0m\n\u001b[1;32m-> 1056\u001b[1;33m                 \u001b[0mself\u001b[0m\u001b[1;33m.\u001b[0m\u001b[0mretrieve\u001b[0m\u001b[1;33m(\u001b[0m\u001b[1;33m)\u001b[0m\u001b[1;33m\u001b[0m\u001b[1;33m\u001b[0m\u001b[0m\n\u001b[0m\u001b[0;32m   1057\u001b[0m             \u001b[1;31m# Make sure that we get a last message telling us we are done\u001b[0m\u001b[1;33m\u001b[0m\u001b[1;33m\u001b[0m\u001b[1;33m\u001b[0m\u001b[0m\n\u001b[0;32m   1058\u001b[0m             \u001b[0melapsed_time\u001b[0m \u001b[1;33m=\u001b[0m \u001b[0mtime\u001b[0m\u001b[1;33m.\u001b[0m\u001b[0mtime\u001b[0m\u001b[1;33m(\u001b[0m\u001b[1;33m)\u001b[0m \u001b[1;33m-\u001b[0m \u001b[0mself\u001b[0m\u001b[1;33m.\u001b[0m\u001b[0m_start_time\u001b[0m\u001b[1;33m\u001b[0m\u001b[1;33m\u001b[0m\u001b[0m\n",
      "\u001b[1;32m~\\AppData\\Roaming\\Python\\Python38\\site-packages\\joblib\\parallel.py\u001b[0m in \u001b[0;36mretrieve\u001b[1;34m(self)\u001b[0m\n\u001b[0;32m    933\u001b[0m             \u001b[1;32mtry\u001b[0m\u001b[1;33m:\u001b[0m\u001b[1;33m\u001b[0m\u001b[1;33m\u001b[0m\u001b[0m\n\u001b[0;32m    934\u001b[0m                 \u001b[1;32mif\u001b[0m \u001b[0mgetattr\u001b[0m\u001b[1;33m(\u001b[0m\u001b[0mself\u001b[0m\u001b[1;33m.\u001b[0m\u001b[0m_backend\u001b[0m\u001b[1;33m,\u001b[0m \u001b[1;34m'supports_timeout'\u001b[0m\u001b[1;33m,\u001b[0m \u001b[1;32mFalse\u001b[0m\u001b[1;33m)\u001b[0m\u001b[1;33m:\u001b[0m\u001b[1;33m\u001b[0m\u001b[1;33m\u001b[0m\u001b[0m\n\u001b[1;32m--> 935\u001b[1;33m                     \u001b[0mself\u001b[0m\u001b[1;33m.\u001b[0m\u001b[0m_output\u001b[0m\u001b[1;33m.\u001b[0m\u001b[0mextend\u001b[0m\u001b[1;33m(\u001b[0m\u001b[0mjob\u001b[0m\u001b[1;33m.\u001b[0m\u001b[0mget\u001b[0m\u001b[1;33m(\u001b[0m\u001b[0mtimeout\u001b[0m\u001b[1;33m=\u001b[0m\u001b[0mself\u001b[0m\u001b[1;33m.\u001b[0m\u001b[0mtimeout\u001b[0m\u001b[1;33m)\u001b[0m\u001b[1;33m)\u001b[0m\u001b[1;33m\u001b[0m\u001b[1;33m\u001b[0m\u001b[0m\n\u001b[0m\u001b[0;32m    936\u001b[0m                 \u001b[1;32melse\u001b[0m\u001b[1;33m:\u001b[0m\u001b[1;33m\u001b[0m\u001b[1;33m\u001b[0m\u001b[0m\n\u001b[0;32m    937\u001b[0m                     \u001b[0mself\u001b[0m\u001b[1;33m.\u001b[0m\u001b[0m_output\u001b[0m\u001b[1;33m.\u001b[0m\u001b[0mextend\u001b[0m\u001b[1;33m(\u001b[0m\u001b[0mjob\u001b[0m\u001b[1;33m.\u001b[0m\u001b[0mget\u001b[0m\u001b[1;33m(\u001b[0m\u001b[1;33m)\u001b[0m\u001b[1;33m)\u001b[0m\u001b[1;33m\u001b[0m\u001b[1;33m\u001b[0m\u001b[0m\n",
      "\u001b[1;32m~\\AppData\\Roaming\\Python\\Python38\\site-packages\\joblib\\_parallel_backends.py\u001b[0m in \u001b[0;36mwrap_future_result\u001b[1;34m(future, timeout)\u001b[0m\n\u001b[0;32m    540\u001b[0m         AsyncResults.get from multiprocessing.\"\"\"\n\u001b[0;32m    541\u001b[0m         \u001b[1;32mtry\u001b[0m\u001b[1;33m:\u001b[0m\u001b[1;33m\u001b[0m\u001b[1;33m\u001b[0m\u001b[0m\n\u001b[1;32m--> 542\u001b[1;33m             \u001b[1;32mreturn\u001b[0m \u001b[0mfuture\u001b[0m\u001b[1;33m.\u001b[0m\u001b[0mresult\u001b[0m\u001b[1;33m(\u001b[0m\u001b[0mtimeout\u001b[0m\u001b[1;33m=\u001b[0m\u001b[0mtimeout\u001b[0m\u001b[1;33m)\u001b[0m\u001b[1;33m\u001b[0m\u001b[1;33m\u001b[0m\u001b[0m\n\u001b[0m\u001b[0;32m    543\u001b[0m         \u001b[1;32mexcept\u001b[0m \u001b[0mCfTimeoutError\u001b[0m \u001b[1;32mas\u001b[0m \u001b[0me\u001b[0m\u001b[1;33m:\u001b[0m\u001b[1;33m\u001b[0m\u001b[1;33m\u001b[0m\u001b[0m\n\u001b[0;32m    544\u001b[0m             \u001b[1;32mraise\u001b[0m \u001b[0mTimeoutError\u001b[0m \u001b[1;32mfrom\u001b[0m \u001b[0me\u001b[0m\u001b[1;33m\u001b[0m\u001b[1;33m\u001b[0m\u001b[0m\n",
      "\u001b[1;32mC:\\Program Files\\Anaconda3\\lib\\concurrent\\futures\\_base.py\u001b[0m in \u001b[0;36mresult\u001b[1;34m(self, timeout)\u001b[0m\n\u001b[0;32m    432\u001b[0m                 \u001b[1;32mreturn\u001b[0m \u001b[0mself\u001b[0m\u001b[1;33m.\u001b[0m\u001b[0m__get_result\u001b[0m\u001b[1;33m(\u001b[0m\u001b[1;33m)\u001b[0m\u001b[1;33m\u001b[0m\u001b[1;33m\u001b[0m\u001b[0m\n\u001b[0;32m    433\u001b[0m \u001b[1;33m\u001b[0m\u001b[0m\n\u001b[1;32m--> 434\u001b[1;33m             \u001b[0mself\u001b[0m\u001b[1;33m.\u001b[0m\u001b[0m_condition\u001b[0m\u001b[1;33m.\u001b[0m\u001b[0mwait\u001b[0m\u001b[1;33m(\u001b[0m\u001b[0mtimeout\u001b[0m\u001b[1;33m)\u001b[0m\u001b[1;33m\u001b[0m\u001b[1;33m\u001b[0m\u001b[0m\n\u001b[0m\u001b[0;32m    435\u001b[0m \u001b[1;33m\u001b[0m\u001b[0m\n\u001b[0;32m    436\u001b[0m             \u001b[1;32mif\u001b[0m \u001b[0mself\u001b[0m\u001b[1;33m.\u001b[0m\u001b[0m_state\u001b[0m \u001b[1;32min\u001b[0m \u001b[1;33m[\u001b[0m\u001b[0mCANCELLED\u001b[0m\u001b[1;33m,\u001b[0m \u001b[0mCANCELLED_AND_NOTIFIED\u001b[0m\u001b[1;33m]\u001b[0m\u001b[1;33m:\u001b[0m\u001b[1;33m\u001b[0m\u001b[1;33m\u001b[0m\u001b[0m\n",
      "\u001b[1;32mC:\\Program Files\\Anaconda3\\lib\\threading.py\u001b[0m in \u001b[0;36mwait\u001b[1;34m(self, timeout)\u001b[0m\n\u001b[0;32m    300\u001b[0m         \u001b[1;32mtry\u001b[0m\u001b[1;33m:\u001b[0m    \u001b[1;31m# restore state no matter what (e.g., KeyboardInterrupt)\u001b[0m\u001b[1;33m\u001b[0m\u001b[1;33m\u001b[0m\u001b[0m\n\u001b[0;32m    301\u001b[0m             \u001b[1;32mif\u001b[0m \u001b[0mtimeout\u001b[0m \u001b[1;32mis\u001b[0m \u001b[1;32mNone\u001b[0m\u001b[1;33m:\u001b[0m\u001b[1;33m\u001b[0m\u001b[1;33m\u001b[0m\u001b[0m\n\u001b[1;32m--> 302\u001b[1;33m                 \u001b[0mwaiter\u001b[0m\u001b[1;33m.\u001b[0m\u001b[0macquire\u001b[0m\u001b[1;33m(\u001b[0m\u001b[1;33m)\u001b[0m\u001b[1;33m\u001b[0m\u001b[1;33m\u001b[0m\u001b[0m\n\u001b[0m\u001b[0;32m    303\u001b[0m                 \u001b[0mgotit\u001b[0m \u001b[1;33m=\u001b[0m \u001b[1;32mTrue\u001b[0m\u001b[1;33m\u001b[0m\u001b[1;33m\u001b[0m\u001b[0m\n\u001b[0;32m    304\u001b[0m             \u001b[1;32melse\u001b[0m\u001b[1;33m:\u001b[0m\u001b[1;33m\u001b[0m\u001b[1;33m\u001b[0m\u001b[0m\n",
      "\u001b[1;31mKeyboardInterrupt\u001b[0m: "
     ]
    }
   ],
   "source": [
    "# Initialize SVM with Grid Search model\n",
    "svm_grid_model = get_SVM_linear_model()\n",
    "\n",
    "# Hyper parameter tuning\n",
    "optimized_model = optimize_model_parameter(svm_grid_model, tfidf_feature, y_train)\n",
    "# Classifier pipeline\n",
    "model = pipeline.Pipeline([(\"vectorizer\", tfidf_extractor),  \n",
    "                           (\"classifier\", optimized_model)])\n",
    "\n",
    "# Predict topic indices in x_test\n",
    "y_test_hat = model.predict(x_test)\n",
    "\n",
    "# Evaluate on test set\n",
    "evaluate_model(model, x_test, y_test)"
   ]
  },
  {
   "cell_type": "code",
   "execution_count": null,
   "metadata": {},
   "outputs": [],
   "source": [
    "# Print the details of classification results\n",
    "print(metrics.classification_report(y_test, y_test_hat))\n",
    "# Plot confusion matrix\n",
    "confus_mat = metrics.confusion_matrix(y_test, y_test_hat)\n",
    "disp = plot_confusion_matrix(\n",
    "    confus_mat, \n",
    "    target_names=sorted(set(labels), key=labels.index)\n",
    ")"
   ]
  },
  {
   "cell_type": "code",
   "execution_count": null,
   "metadata": {},
   "outputs": [],
   "source": []
  },
  {
   "cell_type": "code",
   "execution_count": null,
   "metadata": {},
   "outputs": [],
   "source": []
  },
  {
   "cell_type": "code",
   "execution_count": null,
   "metadata": {},
   "outputs": [],
   "source": []
  },
  {
   "cell_type": "code",
   "execution_count": null,
   "metadata": {},
   "outputs": [],
   "source": []
  },
  {
   "cell_type": "code",
   "execution_count": null,
   "metadata": {},
   "outputs": [],
   "source": []
  },
  {
   "cell_type": "code",
   "execution_count": null,
   "metadata": {},
   "outputs": [],
   "source": []
  }
 ],
 "metadata": {
  "kernelspec": {
   "display_name": "Python 3",
   "language": "python",
   "name": "python3"
  },
  "language_info": {
   "codemirror_mode": {
    "name": "ipython",
    "version": 3
   },
   "file_extension": ".py",
   "mimetype": "text/x-python",
   "name": "python",
   "nbconvert_exporter": "python",
   "pygments_lexer": "ipython3",
   "version": "3.8.3"
  }
 },
 "nbformat": 4,
 "nbformat_minor": 4
}
